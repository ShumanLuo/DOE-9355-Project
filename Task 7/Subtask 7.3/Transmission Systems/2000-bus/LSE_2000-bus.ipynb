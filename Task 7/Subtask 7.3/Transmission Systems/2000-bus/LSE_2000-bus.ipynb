{
 "cells": [
  {
   "cell_type": "markdown",
   "id": "4be3e444",
   "metadata": {},
   "source": [
    "## LSE for 2000-bus system\n",
    "\n",
    "To run this for a different system, you need:\\\n",
    "bdata.csv: The branch data of the system with each row being the individual branches, and:\n",
    "        Column 1: From bus \\\n",
    "        Column 2: To bus\\\n",
    "        Column 3: Resistance (R)\\\n",
    "        Column 4: Reactance (X)\\\n",
    "        Column 5: Susceptance (B)\\\n",
    "        Column 6: Transformer tap ratio ($\\tau$), set to 1 if NA"
   ]
  },
  {
   "cell_type": "code",
   "execution_count": 1,
   "id": "9148a30f",
   "metadata": {},
   "outputs": [],
   "source": [
    "# import the required packages\n",
    "from ctypes import c_double\n",
    "import numpy as np\n",
    "import scipy.stats as stats\n",
    "np.random.seed(123)\n",
    "\n",
    "import pandas as pd\n",
    "import matplotlib.pyplot as plt\n",
    "import math\n",
    "import cmath\n",
    "# from linear_state_estimation import *\n",
    "from sklearn.metrics import mean_absolute_error, mean_squared_error, mean_absolute_percentage_error\n",
    "# from noise_models import *"
   ]
  },
  {
   "cell_type": "code",
   "execution_count": 25,
   "id": "e4def3a6",
   "metadata": {},
   "outputs": [],
   "source": [
    "# pmu list required for complete observability derived from a matlab code\n",
    "pmu_list = pd.read_csv('pmu_list.csv', header=None).values.flatten().tolist()"
   ]
  },
  {
   "cell_type": "code",
   "execution_count": 27,
   "id": "88e35551",
   "metadata": {},
   "outputs": [],
   "source": [
    "# Define the LSE function\n",
    "\n",
    "class linear_state_estimator():\n",
    "    \"\"\"docstring for ClassName\"\"\"\n",
    "    def __init__(self, num_bus, bus_system , add_bus, branch_data):\n",
    "\n",
    "        self.num_bus = num_bus\n",
    "        self.add_bus = add_bus\n",
    "        self.pmu_loc = {\n",
    "            512: pmu_list,\n",
    "            -1: []\n",
    "        }\n",
    "\n",
    "        self.pmu_bus = sorted(self.pmu_loc[num_bus])\n",
    "        for bus in add_bus:\n",
    "            self.pmu_bus.append(bus)\n",
    "        self.pmu_index = [i-1 for i in self.pmu_bus]\n",
    "\n",
    "        idx_from_dict = []\n",
    "        idx_to_dict = []\n",
    "        self.bdata = branch_data\n",
    "        self.bus_system = bus_system\n",
    "\n",
    "\n",
    "        for branch_idx in range(self.bdata.shape[0]):\n",
    "            if int(self.bdata[branch_idx,0]) in self.pmu_bus:\n",
    "                idx_from_dict.append(branch_idx)\n",
    "\n",
    "            if int(self.bdata[branch_idx,1]) in self.pmu_bus:\n",
    "                idx_to_dict.append(branch_idx)\n",
    "\n",
    "        self.m = len(idx_from_dict) + len(idx_to_dict)\n",
    "        # print(self.m)\n",
    "\n",
    "\n",
    "\n",
    "\n",
    "    def a_matrix(self):\n",
    "\n",
    "        a_mat = np.zeros([self.m, self.bus_system], dtype=np.complex128)\n",
    "        idx=0\n",
    "\n",
    "        for bus in self.pmu_bus:\n",
    "            for branch in self.bdata:\n",
    "                if branch[0] == bus:\n",
    "                    a_mat[idx, int(branch[0])-1] = 1/branch[5]**2\n",
    "                    a_mat[idx, int(branch[1])-1] = -1/branch[5]\n",
    "                    idx = idx +1\n",
    "\n",
    "                if branch[1] == bus:\n",
    "                    a_mat[idx, int(branch[1])-1] = 1\n",
    "                    a_mat[idx, int(branch[0])-1] = -1/branch[5]\n",
    "                    idx = idx +1\n",
    "        return a_mat\n",
    "\n",
    "\n",
    "\n",
    "    def two_matrix(self):\n",
    "        two_mat = np.zeros([len(self.pmu_bus), self.bus_system], dtype=np.complex128)\n",
    "\n",
    "        for i,bus in enumerate(self.pmu_bus):\n",
    "            two_mat[i, bus-1] = 1\n",
    "\n",
    "        return two_mat\n",
    "\n",
    "\n",
    "    def series_admittance(self):\n",
    "\n",
    "        Y_mat = np.zeros([self.m,self.m], dtype=np.complex128)\n",
    "        idx = 0\n",
    "        for bus in self.pmu_bus:\n",
    "            for branch in self.bdata:\n",
    "                if branch[0] == bus:\n",
    "                    Y_mat[idx, idx] = 1/complex(branch[2], branch[3])\n",
    "                    idx = idx +1\n",
    "\n",
    "                if branch[1] == bus:\n",
    "                    Y_mat[idx, idx] = 1/complex(branch[2], branch[3])\n",
    "                    idx = idx +1\n",
    "\n",
    "        return Y_mat\n",
    "\n",
    "\n",
    "    def shunt_admittance(self):\n",
    "\n",
    "        Ys_mat = np.zeros([self.m, self.bus_system], dtype=np.complex128)\n",
    "        idx = 0\n",
    "        for bus in self.pmu_bus:\n",
    "            for branch in self.bdata:\n",
    "                if branch[0] == bus:\n",
    "                    Ys_mat[idx, int(branch[0])-1] = complex(0, branch[4]/2) /branch[5]**2\n",
    "                    idx = idx +1\n",
    "\n",
    "                if branch[1] == bus:\n",
    "                    Ys_mat[idx, int(branch[1])-1] = complex(0, branch[4]/2)\n",
    "                    idx = idx +1\n",
    "\n",
    "        return Ys_mat\n"
   ]
  },
  {
   "cell_type": "code",
   "execution_count": 28,
   "id": "a868e02d",
   "metadata": {},
   "outputs": [],
   "source": [
    "#---------------- NEW Version of Error Model -------------\n",
    "\n",
    "#Magnitude: Mu=[-0.004, 0.006] , Sigma=[0.0025 0.0025] , Weight = [0.4, 0.6]\n",
    "#Angle : Mu = [-0.2, 0.3] , Sigma= [0.12, 0.12] , Weight = [0.4, 0.6]\n",
    "\n",
    "def Varying_GMM_Error_vector_Creation(sample_size, Mu_vector, Sigma_vector, weight_vector): ## The GMM error \n",
    "    error = sample_size\n",
    "    nsamp = sample_size\n",
    "    #np.random.seed(seed=seed_number)\n",
    "    data1 = stats.norm.rvs(loc=Mu_vector[0], scale=Sigma_vector[0], size=round(weight_vector[0]*sample_size)) \n",
    "    data1 = data1.reshape(-1, 1)\n",
    "    data2 = stats.norm.rvs(loc=Mu_vector[1], scale=Sigma_vector[1], size=round(weight_vector[1]*sample_size)) \n",
    "    data2 = data2.reshape(-1, 1)\n",
    "#    data3 = stats.norm.rvs(loc=Mu_vector[2], scale=Sigma_vector[2], size=round(weight_vector[2]*sample_size)) \n",
    "#    data3 = data3.reshape(-1, 1)\n",
    "#    GMM_vector = np.vstack((data1, data2, data3)) \n",
    "    GMM_vector = np.vstack((data1, data2)) \n",
    "    error = GMM_vector\n",
    "    np.random.shuffle(error)\n",
    "    #error = np.random.shuffle(error)\n",
    "    return(error)\n",
    "\n",
    "\n",
    "def NoisyAng(x):\n",
    "    for i in range (x.shape[1]):\n",
    "        y = Varying_GMM_Error_vector_Creation(x.shape[0], [-0.2, 0.3], [0.12, 0.12], [0.4, 0.6])\n",
    "        x[:,i] = x[:,i] + y.reshape((x.shape[0],))\n",
    "        \n",
    "    return x\n",
    "\n",
    "# def NoisyMag(x):\n",
    "#     for i in range (x.shape[1]):\n",
    "#         y = Varying_GMM_Error_vector_Creation(x.shape[0], [-0.004, 0.006], [0.0025, 0.0025], [0.4, 0.6])\n",
    "#         y = 1+y\n",
    "#         x[:,i] = np.multiply(y, x[:,i].reshape(-1,1)).reshape(-1,)\n",
    "#         # x[:,i] = x[:,i] + y.reshape((x.shape[0],))\n",
    "        \n",
    "  ## Updated      \n",
    "def NoisyMag(x):\n",
    "    for i in range (x.shape[1]):\n",
    "        y = Varying_GMM_Error_vector_Creation(x.shape[0], [-0.004, 0.006], [0.0025, 0.0025], [0.4, 0.6])\n",
    "        x[:,i] = x[:,i] + y.reshape((x.shape[0],)) #Additive error\n",
    " #IMPORTANT#      ## Multiplicative error is not suitable for values less than 1. But additive error is always workable.\n",
    "                    # This is why I have commented the previous code lines for NoisyMag, because current values are less than 1 and when we apply NoisyMag to them, it will not be non-Gaussian noise with our desired characteristics\n",
    "        \n",
    "        \n",
    "    return x\n",
    "\n",
    "def gaussian_ang(X, range1, mu1):\n",
    "    sigma1 = range1/6\n",
    "    l,b  = X.shape\n",
    "    noise_xtot = np.zeros([l,b])\n",
    "    for q in range(b):\n",
    "      noise_cols = np.random.normal(mu1, sigma1, l)\n",
    "      noise_xtot[:,q] = noise_cols\n",
    "    X_noisy = X + noise_xtot \n",
    "    return X_noisy\n",
    "\n",
    "\n",
    "\n",
    "def gaussian_mag(X, range1, mu1):\n",
    "    sigma1 = range1/6\n",
    "    l,b  = X.shape\n",
    "    noise_xtot = np.zeros([l,b])\n",
    "    for q in range(b):\n",
    "      noise_cols = np.random.normal(mu1, sigma1, l)\n",
    "      noise_xtot[:,q] = noise_cols\n",
    "    X_noisy = X + (noise_xtot)  #Updated with the same reasoning mentioned for NoisyMag\n",
    "    return X_noisy"
   ]
  },
  {
   "cell_type": "code",
   "execution_count": 30,
   "id": "1bb07ba8",
   "metadata": {},
   "outputs": [
    {
     "data": {
      "text/plain": [
       "(2000, 2797)"
      ]
     },
     "execution_count": 30,
     "metadata": {},
     "output_type": "execute_result"
    }
   ],
   "source": [
    "# System data. To place pmu's in custom bus, set num_bus to -1 and set the list of buses to add_bus\n",
    "n_branches = 3206\n",
    "pmu_buses = 512\n",
    "bus_system = 2000\n",
    "bdata = np.genfromtxt('bdata_case_ACTIVSg2000.csv', delimiter = ',')\n",
    "\n",
    "l = linear_state_estimator(num_bus = pmu_buses, bus_system = bus_system, add_bus = [], branch_data = bdata)\n",
    "test_bus = l.pmu_bus #location of PMU\n",
    "\n",
    "# Generate system matrices (refer to Kevin Report for this values)\n",
    "a = l.a_matrix() \n",
    "t_m = l.two_matrix()\n",
    "Y = l.series_admittance()\n",
    "Ys = l.shunt_admittance()\n",
    "\n",
    "m = l.m # the number of current measurements (I)\n",
    "M = np.matmul(Y,a) + Ys\n",
    "B = np.concatenate((t_m, M), axis=0)\n",
    "H = np.matmul(np.linalg.inv(np.matmul(np.transpose(B),B)),np.transpose(B)) #B is the same as H in z=Hx+v\n",
    "H.shape"
   ]
  },
  {
   "cell_type": "markdown",
   "id": "5c7f5193",
   "metadata": {},
   "source": [
    "Data Preparation.\\\n",
    "Description:\n",
    "\n",
    "VM, VA:  Bus voltage magnitude and angle (pu and degrees) \\\n",
    "CFM, CFA: current from (in order with the lines in bdata) \\\n",
    "CTM, CTA: current to \\"
   ]
  },
  {
   "cell_type": "code",
   "execution_count": 32,
   "id": "ebd3d220",
   "metadata": {},
   "outputs": [],
   "source": [
    "## import data of the base topology\n",
    "path = r'C:\\Users\\smoshta1\\OneDrive - Arizona State University\\Desktop\\DOE\\BP2\\Subtask 5.1\\Transmission Systems\\2000-bus system\\Generated data/'\n",
    "\n",
    "VM = pd.read_csv(path + 'VDATA_mag_train_T1_3pm.csv', header = None)\n",
    "VA = pd.read_csv(path + 'VDATA_ang_train_T1_3pm.csv', header = None)\n",
    "CFM = pd.read_csv(path + 'If_mag_train_T1_3pm.csv', header = None)\n",
    "CFA = pd.read_csv(path + 'If_ang_train_T1_3pm.csv', header = None)\n",
    "CTM = pd.read_csv(path + 'It_mag_train_T1_3pm.csv', header = None)\n",
    "CTA = pd.read_csv(path + 'It_ang_train_T1_3pm.csv', header = None)\n",
    "\n",
    "# -- uncomment this for gaussian noise --\n",
    "vm = gaussian_mag(VM.values, 0.02, 0) \n",
    "va = gaussian_ang(VA.values, 1, 0)\n",
    "cfm = gaussian_mag(CFM.values, 0.02, 0)\n",
    "cfa = gaussian_ang(CFA.values, 1, 0)\n",
    "ctm = gaussian_mag(CTM.values, 0.02, 0)\n",
    "cta = gaussian_ang(CTA.values, 1, 0)\n",
    "\n",
    "# -- uncomment this for non-gaussian noise --\n",
    "# vm = NoisyMag(VM.values) \n",
    "# va = NoisyAng(VA.values)\n",
    "# cfm = NoisyMag(CFM.values)\n",
    "# cfa = NoisyAng(CFA.values)\n",
    "# ctm = NoisyMag(CTM.values)\n",
    "# cta = NoisyAng(CTA.values)\n",
    "\n",
    "# -- uncomment this for no noise --\n",
    "# vm = VM.values\n",
    "# va = VA.values\n",
    "# cfm = CFM.values\n",
    "# cfa = CFA.values\n",
    "# ctm = CTM.values\n",
    "# cta = CTA.values"
   ]
  },
  {
   "cell_type": "code",
   "execution_count": 45,
   "id": "8f2190e0",
   "metadata": {},
   "outputs": [
    {
     "data": {
      "image/png": "[encoded data removed]",
      "text/plain": [
       "<Figure size 640x480 with 2 Axes>"
      ]
     },
     "metadata": {},
     "output_type": "display_data"
    }
   ],
   "source": [
    "dev_mag = vm - VM.to_numpy()\n",
    "dev_ang = va - VA.to_numpy()\n",
    "f = 10 #choose the feature index\n",
    "\n",
    "fig, axes = plt.subplots(1,2)\n",
    "axes[0].hist(dev_mag[:,f], bins=100, label='noise in mag')\n",
    "axes[1].hist(dev_ang[:,f],bins=100, label='noise in ang')\n",
    "axes[0].legend()\n",
    "axes[1].legend()\n",
    "plt.show()"
   ]
  },
  {
   "cell_type": "markdown",
   "id": "ad275cab",
   "metadata": {},
   "source": [
    "### Solve the LSE"
   ]
  },
  {
   "cell_type": "code",
   "execution_count": 46,
   "id": "15685096",
   "metadata": {},
   "outputs": [],
   "source": [
    "vm_tot =  np.zeros(vm.shape)\n",
    "va_tot =  np.zeros(vm.shape)\n",
    "\n",
    "# for case in range(1):\n",
    "for case in range(vm.shape[0]):\n",
    "\n",
    "    # --Part 1, calculating voltage (X) from the measurement vector (Z)--\n",
    "\n",
    "    z = np.zeros(pmu_buses + m, dtype = np.complex128)\n",
    "    for i in range(len(test_bus)):\n",
    "        bus_idx =  int(test_bus[i])-1 #PMU location index\n",
    "        z[i] = (vm[case, bus_idx])*np.exp(1j*va[case, bus_idx]*math.pi/180)\n",
    "    idx = len(test_bus)\n",
    "    for bus in test_bus:\n",
    "        for ix, branch in enumerate(bdata):\n",
    "            if branch[0]==bus: \n",
    "                z[idx]= cfm[case, ix]*np.exp(1j*cfa[case, ix]*math.pi/180)\n",
    "                idx = idx+1\n",
    "                # print(idx+1, branch[0], branch[1], 'from current')\n",
    "            if branch[1]==bus: \n",
    "                z[idx]= ctm[case, ix]*np.exp(1j*cta[case, ix]*math.pi/180)\n",
    "                idx = idx+1  \n",
    "                # print(idx+1, branch[0], branch[1], 'to current')    \n",
    "\n",
    "    if idx != z.shape[0]:\n",
    "        print('not good!',idx)\n",
    "        \n",
    "    xhat = np.matmul(H,z)\n",
    "    vm_tot[case,:] = abs(xhat)\n",
    "    va_tot[case,:] = np.angle(xhat)*180/math.pi"
   ]
  },
  {
   "cell_type": "markdown",
   "id": "b1a85b8c",
   "metadata": {},
   "source": [
    "## Checking error"
   ]
  },
  {
   "cell_type": "code",
   "execution_count": 47,
   "id": "c88dbfc4",
   "metadata": {},
   "outputs": [],
   "source": [
    "MAE_vm = np.zeros(bus_system)\n",
    "MAE_va = np.zeros(bus_system)\n",
    "\n",
    "MAPE_vm = np.zeros(bus_system)\n",
    "MAPE_va = np.zeros(bus_system)\n",
    "\n",
    "for i in range(bus_system):\n",
    "    MAE_vm[i] = mean_absolute_error(vm_tot[:,i], vm[:,i]) \n",
    "    MAE_va[i] = mean_absolute_error(va_tot[:,i], va[:,i])     \n",
    "    vm\n",
    "    MAPE_vm[i] = mean_absolute_percentage_error(vm_tot[:,i], vm[:,i]) \n",
    "    MAPE_va[i] = mean_absolute_percentage_error(va_tot[:,i], va[:,i]) \n"
   ]
  },
  {
   "cell_type": "code",
   "execution_count": null,
   "id": "54fe265a",
   "metadata": {},
   "outputs": [],
   "source": [
    "MAE_va.shape"
   ]
  },
  {
   "cell_type": "code",
   "execution_count": 48,
   "id": "b8e98081",
   "metadata": {},
   "outputs": [
    {
     "name": "stdout",
     "output_type": "stream",
     "text": [
      "MAE_mag: 0.00280, MAPE_mag: 0.26175\n",
      "MAE_ang: 0.13872, MAPE_ang: 1.20333\n"
     ]
    }
   ],
   "source": [
    "# For the base topology (without topology change)\n",
    "print(f'MAE_mag: {np.mean(MAE_vm):.5f}, MAPE_mag: {np.mean(MAPE_vm)*100:.5f}')\n",
    "print(f'MAE_ang: {np.mean(MAE_va):.5f}, MAPE_ang: {np.mean(MAPE_va)*100:.5f}')"
   ]
  },
  {
   "cell_type": "code",
   "execution_count": 73,
   "id": "c0662801",
   "metadata": {},
   "outputs": [],
   "source": [
    "# We stored the these LSE results because it took 3 hours to get them!!!\n",
    "np.savetxt('LSE-SE_MAPE_mag.csv', MAPE_vm * 100 , delimiter=',')\n",
    "np.savetxt('LSE-SE_MAE_ang.csv', MAE_va , delimiter=',')"
   ]
  },
  {
   "cell_type": "markdown",
   "id": "585e2972",
   "metadata": {},
   "source": [
    "## Compare LSE results with DNN-SE results"
   ]
  },
  {
   "cell_type": "code",
   "execution_count": 62,
   "id": "568fe8ab",
   "metadata": {},
   "outputs": [],
   "source": [
    "# Read DNN-SE results\n",
    "path = r'C:\\Users\\smoshta1\\OneDrive - Arizona State University\\Desktop\\DOE\\BP2\\Subtask 7.2\\2000-bus Texas System/'\n",
    "DNN_MAPE_mag = pd.read_csv(path + 'DNN-SE_MAPE_mag.csv', header=None).to_numpy().squeeze()\n",
    "DNN_MAE_ang = pd.read_csv(path + 'DNN-SE_MAE_ang.csv', header=None).to_numpy().squeeze()"
   ]
  },
  {
   "cell_type": "code",
   "execution_count": 67,
   "id": "f7e6a95f",
   "metadata": {},
   "outputs": [],
   "source": [
    "# LSE results per bus or just load them!!!\n",
    "LSE_MAPE_mag = MAPE_vm * 100\n",
    "LSE_MAE_ang = MAE_va"
   ]
  },
  {
   "cell_type": "code",
   "execution_count": 71,
   "id": "394409a7",
   "metadata": {
    "scrolled": true
   },
   "outputs": [
    {
     "data": {
      "image/png": "[encoded data removed]",
      "text/plain": [
       "<Figure size 2000x500 with 1 Axes>"
      ]
     },
     "metadata": {},
     "output_type": "display_data"
    }
   ],
   "source": [
    "# create a DataFrame with the data\n",
    "df = pd.DataFrame({'DNN-SE': DNN_MAPE_mag,\n",
    "                   'LSE': LSE_MAPE_mag})\n",
    "colors = ['blue', '#ff7f0e']\n",
    "# plot the data as a double bar chart\n",
    "ax = df.plot(kind='bar', figsize=(20,5), width=0.8, color=colors)\n",
    "\n",
    "\n",
    "# increase the font size of the x and y axis labels\n",
    "ax.set_xlabel('Bus Number', fontsize=12)\n",
    "ax.set_ylabel('MAPE (%)', fontsize=12)\n",
    "\n",
    "# set the legend to show above the chart\n",
    "ax.legend(loc=9, fontsize=12)\n",
    "\n",
    "# remove x-axis ticks\n",
    "ax.set_xticks([])\n",
    "ax.set_xticklabels([])\n",
    "\n",
    "# show the chart\n",
    "plt.show()"
   ]
  },
  {
   "cell_type": "code",
   "execution_count": 72,
   "id": "f134726e",
   "metadata": {
    "scrolled": true
   },
   "outputs": [
    {
     "data": {
      "image/png": "[encoded data removed]",
      "text/plain": [
       "<Figure size 2000x500 with 1 Axes>"
      ]
     },
     "metadata": {},
     "output_type": "display_data"
    }
   ],
   "source": [
    "# create a DataFrame with the data\n",
    "df = pd.DataFrame({'DNN-SE': DNN_MAE_ang,\n",
    "                   'LSE': LSE_MAE_ang})\n",
    "colors = ['blue', '#ff7f0e']\n",
    "# plot the data as a double bar chart\n",
    "ax = df.plot(kind='bar', figsize=(20,5), width=0.8, color=colors)\n",
    "\n",
    "\n",
    "# increase the font size of the x and y axis labels\n",
    "ax.set_xlabel('Bus Number', fontsize=12)\n",
    "ax.set_ylabel('MAE (degrees)', fontsize=12)\n",
    "\n",
    "# set the legend to show above the chart\n",
    "ax.legend(loc=9, fontsize=12)\n",
    "\n",
    "# remove x-axis ticks\n",
    "ax.set_xticks([])\n",
    "ax.set_xticklabels([])\n",
    "\n",
    "# show the chart\n",
    "plt.show()"
   ]
  },
  {
   "cell_type": "markdown",
   "id": "cd074674",
   "metadata": {},
   "source": [
    "# DNN-SE for 2000 bus should be run again for 3000+ epochs to avoid having these high errors!"
   ]
  }
 ],
 "metadata": {
  "kernelspec": {
   "display_name": "Python 3 (ipykernel)",
   "language": "python",
   "name": "python3"
  },
  "language_info": {
   "codemirror_mode": {
    "name": "ipython",
    "version": 3
   },
   "file_extension": ".py",
   "mimetype": "text/x-python",
   "name": "python",
   "nbconvert_exporter": "python",
   "pygments_lexer": "ipython3",
   "version": "3.10.8"
  },
  "vscode": {
   "interpreter": {
    "hash": "3f68dd0345951f0cf8ba50f1a3a6916c07782ad147069f612168b176ca281376"
   }
  }
 },
 "nbformat": 4,
 "nbformat_minor": 5
}
