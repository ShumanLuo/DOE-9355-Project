{
 "cells": [
  {
   "cell_type": "markdown",
   "id": "34fee8cf",
   "metadata": {},
   "source": [
    "### Here we read data generated in Subtask 5.1 to perform DNN-SE"
   ]
  },
  {
   "cell_type": "markdown",
   "id": "f10cc096",
   "metadata": {
    "id": "f10cc096"
   },
   "source": [
    "# Import required libraries"
   ]
  },
  {
   "cell_type": "code",
   "execution_count": 2,
   "id": "8532e3fc",
   "metadata": {
    "id": "8532e3fc"
   },
   "outputs": [],
   "source": [
    "from tensorflow.keras.models import Sequential\n",
    "from tensorflow.keras.layers import Dense, Activation, BatchNormalization, Dropout\n",
    "from tensorflow.keras.callbacks import EarlyStopping, TensorBoard, ReduceLROnPlateau, ModelCheckpoint\n",
    "from tensorflow.keras.optimizers import Adam, SGD\n",
    "from tensorflow.keras.backend import gradients\n",
    "import tensorflow as tf\n",
    "import pandas as pd\n",
    "import numpy as np\n",
    "from sklearn import metrics\n",
    "from sklearn.metrics import mean_absolute_error, mean_absolute_percentage_error\n",
    "from tensorflow.keras import regularizers\n",
    "from sklearn.utils import shuffle\n",
    "from tensorflow.keras import losses\n",
    "import h5py\n",
    "from tensorflow.keras.layers import LeakyReLU\n",
    "import matplotlib.pyplot as plt\n",
    "from sklearn.model_selection import train_test_split\n",
    "from sklearn.metrics import r2_score\n",
    "from time import time \n",
    "import random\n",
    "\n",
    "\n",
    "np.random.seed(123)\n",
    "random.seed(123)\n",
    "tf.random.set_seed(123)"
   ]
  },
  {
   "cell_type": "code",
   "execution_count": 4,
   "id": "edd03eef",
   "metadata": {},
   "outputs": [],
   "source": [
    "#Import Training Dataset\n",
    "\n",
    "x_train = pd.read_csv('x_train_Gaussian.csv', header = None)\n",
    "y_train = pd.read_csv('y_train_Gaussian.csv', header = None)\n",
    "\n",
    "#Import Test Dataset\n",
    "x_test = pd.read_csv('x_test_Gaussian.csv', header = None)\n",
    "y_test = pd.read_csv('y_test_Gaussian.csv', header = None)\n",
    "\n",
    "\n",
    "#Convert to numpy\n",
    "x_train = x_train.to_numpy()\n",
    "y_train = y_train.to_numpy()\n",
    "x_test = x_test.to_numpy()\n",
    "y_test = y_test.to_numpy()\n"
   ]
  },
  {
   "cell_type": "code",
   "execution_count": 5,
   "id": "087fa88e",
   "metadata": {},
   "outputs": [
    {
     "data": {
      "text/plain": [
       "(2500, 924)"
      ]
     },
     "execution_count": 5,
     "metadata": {},
     "output_type": "execute_result"
    }
   ],
   "source": [
    "y_test.shape"
   ]
  },
  {
   "cell_type": "markdown",
   "id": "96652fe1",
   "metadata": {
    "id": "96652fe1"
   },
   "source": [
    "# Normalization Process "
   ]
  },
  {
   "cell_type": "code",
   "execution_count": 6,
   "id": "5133aa58",
   "metadata": {
    "id": "5133aa58"
   },
   "outputs": [],
   "source": [
    "def normalize(x):\n",
    "    \n",
    "    x_min = np.amin(x)\n",
    "    x_max = np.amax(x)\n",
    "    x_norm = (x-x_min)/(x_max-x_min)\n",
    "    \n",
    "    return x_norm,x_min,x_max"
   ]
  },
  {
   "cell_type": "code",
   "execution_count": 7,
   "id": "22ONnlI0qDRx",
   "metadata": {
    "colab": {
     "base_uri": "https://localhost:8080/"
    },
    "executionInfo": {
     "elapsed": 337,
     "status": "ok",
     "timestamp": 1652735836461,
     "user": {
      "displayName": "Mohammad Golgol",
      "userId": "04030104402545830418"
     },
     "user_tz": 420
    },
    "id": "22ONnlI0qDRx",
    "outputId": "9b175b5a-f7ae-4bf3-ecc4-120f6fde05b1"
   },
   "outputs": [
    {
     "name": "stderr",
     "output_type": "stream",
     "text": [
      "C:\\Users\\smoshta1\\AppData\\Local\\Temp\\4\\ipykernel_97044\\3391188138.py:5: RuntimeWarning: invalid value encountered in true_divide\n",
      "  x_norm = (x-x_min)/(x_max-x_min)\n",
      "C:\\Users\\smoshta1\\AppData\\Local\\Temp\\4\\ipykernel_97044\\1985882978.py:11: RuntimeWarning: invalid value encountered in true_divide\n",
      "  x_normalized_test[:,i] = (x_test[:,i]-x_min)/(x_max-x_min)\n"
     ]
    }
   ],
   "source": [
    "#Normalizing Data\n",
    "x_normalized_train = np.zeros(x_train.shape) \n",
    "y_normalized_train = np.zeros(y_train.shape)  \n",
    "x_normalized_test = np.zeros(x_test.shape)\n",
    "y_normalized_test = np.zeros(y_test.shape)  \n",
    "\n",
    "\n",
    "for i in range(x_train.shape[1]):\n",
    "    t1,x_min,x_max = normalize(x_train[:,i])\n",
    "    x_normalized_train[:,i] = t1\n",
    "    x_normalized_test[:,i] = (x_test[:,i]-x_min)/(x_max-x_min)\n",
    "    \n",
    "\n",
    "for j in range(y_train.shape[1]):\n",
    "    t2,y_min,y_max = normalize(y_train[:,j])\n",
    "    y_normalized_train[:,j] = t2\n",
    "    y_normalized_test[:,j] = (y_test[:,j]-y_min)/(y_max-y_min)\n",
    "\n",
    "\n",
    "# x_normalized_test = (x_test-x_min)/(x_max-x_min)\n",
    "# y_normalized_test = (y_test-y_min)/(y_max-y_min)"
   ]
  },
  {
   "cell_type": "code",
   "execution_count": 8,
   "id": "IckEe-nnpu5Q",
   "metadata": {
    "id": "IckEe-nnpu5Q"
   },
   "outputs": [],
   "source": [
    "main_y_train = y_train\n",
    "main_x_train = x_train\n",
    "main_y_test = y_test\n",
    "main_x_test = x_test"
   ]
  },
  {
   "cell_type": "markdown",
   "id": "cce119de",
   "metadata": {
    "id": "cce119de"
   },
   "source": [
    "### Data cleaning"
   ]
  },
  {
   "cell_type": "code",
   "execution_count": 11,
   "id": "3710bcf8",
   "metadata": {
    "colab": {
     "base_uri": "https://localhost:8080/"
    },
    "executionInfo": {
     "elapsed": 150,
     "status": "ok",
     "timestamp": 1652736000102,
     "user": {
      "displayName": "Mohammad Golgol",
      "userId": "04030104402545830418"
     },
     "user_tz": 420
    },
    "id": "3710bcf8",
    "outputId": "9dd73876-6034-4f79-f7e3-41e305dd04a3"
   },
   "outputs": [
    {
     "name": "stdout",
     "output_type": "stream",
     "text": [
      "max_x_train =  1.0 \n",
      " min_x_train =  0.0 \n",
      " max_x_test=  1.0549412867272407 \n",
      " min_x_test -0.059339470434111974 \n",
      " max_y_train =  1.0 \n",
      " min_y_train =  0.0 \n",
      " max_y_test=  1.0298498386519295 \n",
      " min_y_test -0.058500452961392634 \n",
      "\n"
     ]
    }
   ],
   "source": [
    "max_x_train = np.amax(x_normalized_train)\n",
    "min_x_train = np.amin(x_normalized_train)\n",
    "max_x_test = np.amax(x_normalized_test)\n",
    "min_x_test = np.amin(x_normalized_test)\n",
    "\n",
    "max_y_train = np.amax(y_normalized_train)\n",
    "min_y_train = np.amin(y_normalized_train)\n",
    "max_y_test = np.amax(y_normalized_test)\n",
    "min_y_test = np.amin(y_normalized_test)\n",
    "\n",
    "print('max_x_train = ',max_x_train,'\\n',\n",
    "      'min_x_train = ',min_x_train,'\\n',\n",
    "      'max_x_test= ',max_x_test,'\\n',\n",
    "      'min_x_test',min_x_test,'\\n',\n",
    "      'max_y_train = ',max_y_train,'\\n',\n",
    "      'min_y_train = ',min_y_train,'\\n',\n",
    "\n",
    "      'max_y_test= ',max_y_test,'\\n',\n",
    "      'min_y_test',min_y_test,'\\n',\n",
    "     )"
   ]
  },
  {
   "cell_type": "code",
   "execution_count": 10,
   "id": "3e6b1eff",
   "metadata": {
    "id": "3e6b1eff"
   },
   "outputs": [],
   "source": [
    "y_normalized_train[np.isnan(y_normalized_train)] = 0\n",
    "y_normalized_test[np.isnan(y_normalized_test)] = 0\n",
    "x_normalized_train[np.isnan(x_normalized_train)] = 0\n",
    "x_normalized_test[np.isnan(x_normalized_test)] = 0"
   ]
  },
  {
   "cell_type": "code",
   "execution_count": 12,
   "id": "cb1154cb",
   "metadata": {
    "id": "cb1154cb"
   },
   "outputs": [],
   "source": [
    "# split train and validation \n",
    "x_train, x_val, y_train, y_val = train_test_split(x_normalized_train, y_normalized_train, test_size=0.2)\n",
    "\n",
    "x_test = x_normalized_test\n",
    "y_test = y_normalized_test"
   ]
  },
  {
   "cell_type": "markdown",
   "id": "8280a2fc",
   "metadata": {
    "id": "8280a2fc"
   },
   "source": [
    "# Build the neural network"
   ]
  },
  {
   "cell_type": "code",
   "execution_count": 13,
   "id": "1045d357",
   "metadata": {
    "colab": {
     "base_uri": "https://localhost:8080/",
     "height": 1000
    },
    "executionInfo": {
     "elapsed": 507407,
     "status": "ok",
     "timestamp": 1652736686965,
     "user": {
      "displayName": "Mohammad Golgol",
      "userId": "04030104402545830418"
     },
     "user_tz": 420
    },
    "id": "1045d357",
    "outputId": "cd48ca63-755e-4b94-c965-c68919e1d845",
    "scrolled": true
   },
   "outputs": [
    {
     "name": "stdout",
     "output_type": "stream",
     "text": [
      "Epoch 1/100\n",
      "248/250 [============================>.] - ETA: 0s - loss: 0.8124 - MSE: 0.8124\n",
      "Epoch 1: val_loss improved from inf to 0.15296, saving model to weights.best.hdf5\n",
      "250/250 [==============================] - 7s 20ms/step - loss: 0.8073 - MSE: 0.8073 - val_loss: 0.1530 - val_MSE: 0.1530 - lr: 0.0010\n",
      "Epoch 2/100\n",
      "249/250 [============================>.] - ETA: 0s - loss: 0.0782 - MSE: 0.0782\n",
      "Epoch 2: val_loss improved from 0.15296 to 0.01867, saving model to weights.best.hdf5\n",
      "250/250 [==============================] - 4s 18ms/step - loss: 0.0780 - MSE: 0.0780 - val_loss: 0.0187 - val_MSE: 0.0187 - lr: 0.0010\n",
      "Epoch 3/100\n",
      "250/250 [==============================] - ETA: 0s - loss: 0.0238 - MSE: 0.0238\n",
      "Epoch 3: val_loss improved from 0.01867 to 0.01264, saving model to weights.best.hdf5\n",
      "250/250 [==============================] - 5s 18ms/step - loss: 0.0238 - MSE: 0.0238 - val_loss: 0.0126 - val_MSE: 0.0126 - lr: 0.0010\n",
      "Epoch 4/100\n",
      "249/250 [============================>.] - ETA: 0s - loss: 0.0183 - MSE: 0.0183\n",
      "Epoch 4: val_loss improved from 0.01264 to 0.01194, saving model to weights.best.hdf5\n",
      "250/250 [==============================] - 5s 18ms/step - loss: 0.0183 - MSE: 0.0183 - val_loss: 0.0119 - val_MSE: 0.0119 - lr: 0.0010\n",
      "Epoch 5/100\n",
      "249/250 [============================>.] - ETA: 0s - loss: 0.0157 - MSE: 0.0157\n",
      "Epoch 5: val_loss improved from 0.01194 to 0.01165, saving model to weights.best.hdf5\n",
      "250/250 [==============================] - 5s 19ms/step - loss: 0.0157 - MSE: 0.0157 - val_loss: 0.0116 - val_MSE: 0.0116 - lr: 0.0010\n",
      "Epoch 6/100\n",
      "250/250 [==============================] - ETA: 0s - loss: 0.0147 - MSE: 0.0147\n",
      "Epoch 6: val_loss improved from 0.01165 to 0.01105, saving model to weights.best.hdf5\n",
      "250/250 [==============================] - 5s 19ms/step - loss: 0.0147 - MSE: 0.0147 - val_loss: 0.0110 - val_MSE: 0.0110 - lr: 0.0010\n",
      "Epoch 7/100\n",
      "250/250 [==============================] - ETA: 0s - loss: 0.0138 - MSE: 0.0138\n",
      "Epoch 7: val_loss improved from 0.01105 to 0.01090, saving model to weights.best.hdf5\n",
      "250/250 [==============================] - 5s 18ms/step - loss: 0.0138 - MSE: 0.0138 - val_loss: 0.0109 - val_MSE: 0.0109 - lr: 0.0010\n",
      "Epoch 8/100\n",
      "249/250 [============================>.] - ETA: 0s - loss: 0.0130 - MSE: 0.0130\n",
      "Epoch 8: val_loss improved from 0.01090 to 0.01041, saving model to weights.best.hdf5\n",
      "250/250 [==============================] - 5s 19ms/step - loss: 0.0130 - MSE: 0.0130 - val_loss: 0.0104 - val_MSE: 0.0104 - lr: 0.0010\n",
      "Epoch 9/100\n",
      "249/250 [============================>.] - ETA: 0s - loss: 0.0125 - MSE: 0.0125\n",
      "Epoch 9: val_loss improved from 0.01041 to 0.01036, saving model to weights.best.hdf5\n",
      "250/250 [==============================] - 5s 18ms/step - loss: 0.0125 - MSE: 0.0125 - val_loss: 0.0104 - val_MSE: 0.0104 - lr: 0.0010\n",
      "Epoch 10/100\n",
      "249/250 [============================>.] - ETA: 0s - loss: 0.0123 - MSE: 0.0123\n",
      "Epoch 10: val_loss did not improve from 0.01036\n",
      "250/250 [==============================] - 5s 19ms/step - loss: 0.0123 - MSE: 0.0123 - val_loss: 0.0108 - val_MSE: 0.0108 - lr: 0.0010\n",
      "Epoch 11/100\n",
      "249/250 [============================>.] - ETA: 0s - loss: 0.0120 - MSE: 0.0120\n",
      "Epoch 11: val_loss improved from 0.01036 to 0.01010, saving model to weights.best.hdf5\n",
      "250/250 [==============================] - 5s 19ms/step - loss: 0.0120 - MSE: 0.0120 - val_loss: 0.0101 - val_MSE: 0.0101 - lr: 0.0010\n",
      "Epoch 12/100\n",
      "249/250 [============================>.] - ETA: 0s - loss: 0.0116 - MSE: 0.0116\n",
      "Epoch 12: val_loss did not improve from 0.01010\n",
      "250/250 [==============================] - 5s 18ms/step - loss: 0.0116 - MSE: 0.0116 - val_loss: 0.0101 - val_MSE: 0.0101 - lr: 0.0010\n",
      "Epoch 13/100\n",
      "248/250 [============================>.] - ETA: 0s - loss: 0.0114 - MSE: 0.0114\n",
      "Epoch 13: val_loss did not improve from 0.01010\n",
      "250/250 [==============================] - 4s 17ms/step - loss: 0.0114 - MSE: 0.0114 - val_loss: 0.0102 - val_MSE: 0.0102 - lr: 0.0010\n",
      "Epoch 14/100\n",
      "248/250 [============================>.] - ETA: 0s - loss: 0.0114 - MSE: 0.0114\n",
      "Epoch 14: val_loss did not improve from 0.01010\n",
      "250/250 [==============================] - 4s 18ms/step - loss: 0.0113 - MSE: 0.0113 - val_loss: 0.0103 - val_MSE: 0.0103 - lr: 0.0010\n",
      "Epoch 15/100\n",
      "247/250 [============================>.] - ETA: 0s - loss: 0.0113 - MSE: 0.0113\n",
      "Epoch 15: val_loss improved from 0.01010 to 0.00992, saving model to weights.best.hdf5\n",
      "250/250 [==============================] - 4s 18ms/step - loss: 0.0113 - MSE: 0.0113 - val_loss: 0.0099 - val_MSE: 0.0099 - lr: 0.0010\n",
      "Epoch 16/100\n",
      "249/250 [============================>.] - ETA: 0s - loss: 0.0108 - MSE: 0.0108\n",
      "Epoch 16: val_loss improved from 0.00992 to 0.00985, saving model to weights.best.hdf5\n",
      "250/250 [==============================] - 4s 18ms/step - loss: 0.0108 - MSE: 0.0108 - val_loss: 0.0098 - val_MSE: 0.0098 - lr: 0.0010\n",
      "Epoch 17/100\n",
      "249/250 [============================>.] - ETA: 0s - loss: 0.0106 - MSE: 0.0106\n",
      "Epoch 17: val_loss improved from 0.00985 to 0.00937, saving model to weights.best.hdf5\n",
      "250/250 [==============================] - 5s 18ms/step - loss: 0.0106 - MSE: 0.0106 - val_loss: 0.0094 - val_MSE: 0.0094 - lr: 0.0010\n",
      "Epoch 18/100\n",
      "248/250 [============================>.] - ETA: 0s - loss: 0.0104 - MSE: 0.0104\n",
      "Epoch 18: val_loss improved from 0.00937 to 0.00876, saving model to weights.best.hdf5\n",
      "250/250 [==============================] - 5s 18ms/step - loss: 0.0104 - MSE: 0.0104 - val_loss: 0.0088 - val_MSE: 0.0088 - lr: 0.0010\n",
      "Epoch 19/100\n",
      "250/250 [==============================] - ETA: 0s - loss: 0.0101 - MSE: 0.0101\n",
      "Epoch 19: val_loss improved from 0.00876 to 0.00843, saving model to weights.best.hdf5\n",
      "250/250 [==============================] - 5s 18ms/step - loss: 0.0101 - MSE: 0.0101 - val_loss: 0.0084 - val_MSE: 0.0084 - lr: 0.0010\n",
      "Epoch 20/100\n",
      "249/250 [============================>.] - ETA: 0s - loss: 0.0095 - MSE: 0.0095\n",
      "Epoch 20: val_loss improved from 0.00843 to 0.00828, saving model to weights.best.hdf5\n",
      "250/250 [==============================] - 5s 18ms/step - loss: 0.0095 - MSE: 0.0095 - val_loss: 0.0083 - val_MSE: 0.0083 - lr: 0.0010\n",
      "Epoch 21/100\n",
      "247/250 [============================>.] - ETA: 0s - loss: 0.0092 - MSE: 0.0092\n",
      "Epoch 21: val_loss improved from 0.00828 to 0.00810, saving model to weights.best.hdf5\n",
      "250/250 [==============================] - 5s 18ms/step - loss: 0.0092 - MSE: 0.0092 - val_loss: 0.0081 - val_MSE: 0.0081 - lr: 0.0010\n",
      "Epoch 22/100\n",
      "247/250 [============================>.] - ETA: 0s - loss: 0.0089 - MSE: 0.0089\n",
      "Epoch 22: val_loss improved from 0.00810 to 0.00762, saving model to weights.best.hdf5\n",
      "250/250 [==============================] - 5s 18ms/step - loss: 0.0089 - MSE: 0.0089 - val_loss: 0.0076 - val_MSE: 0.0076 - lr: 0.0010\n",
      "Epoch 23/100\n",
      "248/250 [============================>.] - ETA: 0s - loss: 0.0090 - MSE: 0.0090\n",
      "Epoch 23: val_loss did not improve from 0.00762\n",
      "250/250 [==============================] - 4s 18ms/step - loss: 0.0090 - MSE: 0.0090 - val_loss: 0.0076 - val_MSE: 0.0076 - lr: 0.0010\n",
      "Epoch 24/100\n",
      "250/250 [==============================] - ETA: 0s - loss: 0.0088 - MSE: 0.0088\n",
      "Epoch 24: val_loss did not improve from 0.00762\n",
      "250/250 [==============================] - 5s 19ms/step - loss: 0.0088 - MSE: 0.0088 - val_loss: 0.0080 - val_MSE: 0.0080 - lr: 0.0010\n",
      "Epoch 25/100\n",
      "250/250 [==============================] - ETA: 0s - loss: 0.0085 - MSE: 0.0085\n",
      "Epoch 25: val_loss improved from 0.00762 to 0.00712, saving model to weights.best.hdf5\n",
      "250/250 [==============================] - 5s 19ms/step - loss: 0.0085 - MSE: 0.0085 - val_loss: 0.0071 - val_MSE: 0.0071 - lr: 0.0010\n",
      "Epoch 26/100\n",
      "249/250 [============================>.] - ETA: 0s - loss: 0.0084 - MSE: 0.0084\n",
      "Epoch 26: val_loss improved from 0.00712 to 0.00693, saving model to weights.best.hdf5\n",
      "250/250 [==============================] - 5s 19ms/step - loss: 0.0084 - MSE: 0.0084 - val_loss: 0.0069 - val_MSE: 0.0069 - lr: 0.0010\n",
      "Epoch 27/100\n",
      "247/250 [============================>.] - ETA: 0s - loss: 0.0079 - MSE: 0.0079\n",
      "Epoch 27: val_loss improved from 0.00693 to 0.00657, saving model to weights.best.hdf5\n",
      "250/250 [==============================] - 5s 18ms/step - loss: 0.0079 - MSE: 0.0079 - val_loss: 0.0066 - val_MSE: 0.0066 - lr: 0.0010\n"
     ]
    },
    {
     "name": "stdout",
     "output_type": "stream",
     "text": [
      "Epoch 28/100\n",
      "247/250 [============================>.] - ETA: 0s - loss: 0.0079 - MSE: 0.0079\n",
      "Epoch 28: val_loss improved from 0.00657 to 0.00652, saving model to weights.best.hdf5\n",
      "250/250 [==============================] - 5s 19ms/step - loss: 0.0079 - MSE: 0.0079 - val_loss: 0.0065 - val_MSE: 0.0065 - lr: 0.0010\n",
      "Epoch 29/100\n",
      "249/250 [============================>.] - ETA: 0s - loss: 0.0077 - MSE: 0.0077\n",
      "Epoch 29: val_loss improved from 0.00652 to 0.00633, saving model to weights.best.hdf5\n",
      "250/250 [==============================] - 5s 19ms/step - loss: 0.0077 - MSE: 0.0077 - val_loss: 0.0063 - val_MSE: 0.0063 - lr: 0.0010\n",
      "Epoch 30/100\n",
      "249/250 [============================>.] - ETA: 0s - loss: 0.0075 - MSE: 0.0075\n",
      "Epoch 30: val_loss improved from 0.00633 to 0.00622, saving model to weights.best.hdf5\n",
      "250/250 [==============================] - 5s 19ms/step - loss: 0.0075 - MSE: 0.0075 - val_loss: 0.0062 - val_MSE: 0.0062 - lr: 0.0010\n",
      "Epoch 31/100\n",
      "248/250 [============================>.] - ETA: 0s - loss: 0.0075 - MSE: 0.0075\n",
      "Epoch 31: val_loss improved from 0.00622 to 0.00615, saving model to weights.best.hdf5\n",
      "250/250 [==============================] - 5s 18ms/step - loss: 0.0075 - MSE: 0.0075 - val_loss: 0.0062 - val_MSE: 0.0062 - lr: 0.0010\n",
      "Epoch 32/100\n",
      "248/250 [============================>.] - ETA: 0s - loss: 0.0075 - MSE: 0.0075\n",
      "Epoch 32: val_loss improved from 0.00615 to 0.00577, saving model to weights.best.hdf5\n",
      "250/250 [==============================] - 5s 19ms/step - loss: 0.0075 - MSE: 0.0075 - val_loss: 0.0058 - val_MSE: 0.0058 - lr: 0.0010\n",
      "Epoch 33/100\n",
      "250/250 [==============================] - ETA: 0s - loss: 0.0073 - MSE: 0.0073\n",
      "Epoch 33: val_loss did not improve from 0.00577\n",
      "250/250 [==============================] - 5s 18ms/step - loss: 0.0073 - MSE: 0.0073 - val_loss: 0.0060 - val_MSE: 0.0060 - lr: 0.0010\n",
      "Epoch 34/100\n",
      "250/250 [==============================] - ETA: 0s - loss: 0.0073 - MSE: 0.0073\n",
      "Epoch 34: val_loss did not improve from 0.00577\n",
      "250/250 [==============================] - 5s 18ms/step - loss: 0.0073 - MSE: 0.0073 - val_loss: 0.0059 - val_MSE: 0.0059 - lr: 0.0010\n",
      "Epoch 35/100\n",
      "249/250 [============================>.] - ETA: 0s - loss: 0.0071 - MSE: 0.0071\n",
      "Epoch 35: val_loss did not improve from 0.00577\n",
      "250/250 [==============================] - 5s 18ms/step - loss: 0.0071 - MSE: 0.0071 - val_loss: 0.0058 - val_MSE: 0.0058 - lr: 0.0010\n",
      "Epoch 36/100\n",
      "249/250 [============================>.] - ETA: 0s - loss: 0.0072 - MSE: 0.0072\n",
      "Epoch 36: val_loss improved from 0.00577 to 0.00568, saving model to weights.best.hdf5\n",
      "250/250 [==============================] - 5s 19ms/step - loss: 0.0072 - MSE: 0.0072 - val_loss: 0.0057 - val_MSE: 0.0057 - lr: 0.0010\n",
      "Epoch 37/100\n",
      "249/250 [============================>.] - ETA: 0s - loss: 0.0072 - MSE: 0.0072\n",
      "Epoch 37: val_loss did not improve from 0.00568\n",
      "250/250 [==============================] - 4s 18ms/step - loss: 0.0072 - MSE: 0.0072 - val_loss: 0.0057 - val_MSE: 0.0057 - lr: 0.0010\n",
      "Epoch 38/100\n",
      "249/250 [============================>.] - ETA: 0s - loss: 0.0072 - MSE: 0.0072\n",
      "Epoch 38: val_loss improved from 0.00568 to 0.00561, saving model to weights.best.hdf5\n",
      "250/250 [==============================] - 5s 18ms/step - loss: 0.0072 - MSE: 0.0072 - val_loss: 0.0056 - val_MSE: 0.0056 - lr: 0.0010\n",
      "Epoch 39/100\n",
      "250/250 [==============================] - ETA: 0s - loss: 0.0071 - MSE: 0.0071\n",
      "Epoch 39: val_loss improved from 0.00561 to 0.00558, saving model to weights.best.hdf5\n",
      "250/250 [==============================] - 5s 19ms/step - loss: 0.0071 - MSE: 0.0071 - val_loss: 0.0056 - val_MSE: 0.0056 - lr: 0.0010\n",
      "Epoch 40/100\n",
      "248/250 [============================>.] - ETA: 0s - loss: 0.0070 - MSE: 0.0070\n",
      "Epoch 40: val_loss improved from 0.00558 to 0.00546, saving model to weights.best.hdf5\n",
      "250/250 [==============================] - 5s 19ms/step - loss: 0.0070 - MSE: 0.0070 - val_loss: 0.0055 - val_MSE: 0.0055 - lr: 0.0010\n",
      "Epoch 41/100\n",
      "247/250 [============================>.] - ETA: 0s - loss: 0.0069 - MSE: 0.0069\n",
      "Epoch 41: val_loss did not improve from 0.00546\n",
      "250/250 [==============================] - 4s 18ms/step - loss: 0.0069 - MSE: 0.0069 - val_loss: 0.0057 - val_MSE: 0.0057 - lr: 0.0010\n",
      "Epoch 42/100\n",
      "249/250 [============================>.] - ETA: 0s - loss: 0.0070 - MSE: 0.0070\n",
      "Epoch 42: val_loss did not improve from 0.00546\n",
      "250/250 [==============================] - 5s 18ms/step - loss: 0.0070 - MSE: 0.0070 - val_loss: 0.0057 - val_MSE: 0.0057 - lr: 0.0010\n",
      "Epoch 43/100\n",
      "247/250 [============================>.] - ETA: 0s - loss: 0.0070 - MSE: 0.0070\n",
      "Epoch 43: val_loss did not improve from 0.00546\n",
      "250/250 [==============================] - 5s 18ms/step - loss: 0.0070 - MSE: 0.0070 - val_loss: 0.0055 - val_MSE: 0.0055 - lr: 0.0010\n",
      "Epoch 44/100\n",
      "248/250 [============================>.] - ETA: 0s - loss: 0.0069 - MSE: 0.0069\n",
      "Epoch 44: val_loss did not improve from 0.00546\n",
      "250/250 [==============================] - 5s 18ms/step - loss: 0.0069 - MSE: 0.0069 - val_loss: 0.0055 - val_MSE: 0.0055 - lr: 0.0010\n",
      "Epoch 45/100\n",
      "248/250 [============================>.] - ETA: 0s - loss: 0.0067 - MSE: 0.0067\n",
      "Epoch 45: val_loss did not improve from 0.00546\n",
      "250/250 [==============================] - 5s 18ms/step - loss: 0.0068 - MSE: 0.0068 - val_loss: 0.0057 - val_MSE: 0.0057 - lr: 0.0010\n",
      "Epoch 46/100\n",
      "248/250 [============================>.] - ETA: 0s - loss: 0.0069 - MSE: 0.0069\n",
      "Epoch 46: val_loss did not improve from 0.00546\n",
      "250/250 [==============================] - 4s 18ms/step - loss: 0.0069 - MSE: 0.0069 - val_loss: 0.0057 - val_MSE: 0.0057 - lr: 0.0010\n",
      "Epoch 47/100\n",
      "248/250 [============================>.] - ETA: 0s - loss: 0.0068 - MSE: 0.0068\n",
      "Epoch 47: val_loss did not improve from 0.00546\n",
      "250/250 [==============================] - 4s 17ms/step - loss: 0.0068 - MSE: 0.0068 - val_loss: 0.0057 - val_MSE: 0.0057 - lr: 0.0010\n",
      "Epoch 48/100\n",
      "248/250 [============================>.] - ETA: 0s - loss: 0.0068 - MSE: 0.0068\n",
      "Epoch 48: val_loss improved from 0.00546 to 0.00520, saving model to weights.best.hdf5\n",
      "250/250 [==============================] - 4s 18ms/step - loss: 0.0068 - MSE: 0.0068 - val_loss: 0.0052 - val_MSE: 0.0052 - lr: 0.0010\n",
      "Epoch 49/100\n",
      "250/250 [==============================] - ETA: 0s - loss: 0.0068 - MSE: 0.0068\n",
      "Epoch 49: val_loss did not improve from 0.00520\n",
      "250/250 [==============================] - 4s 18ms/step - loss: 0.0068 - MSE: 0.0068 - val_loss: 0.0054 - val_MSE: 0.0054 - lr: 0.0010\n",
      "Epoch 50/100\n",
      "249/250 [============================>.] - ETA: 0s - loss: 0.0067 - MSE: 0.0067\n",
      "Epoch 50: val_loss did not improve from 0.00520\n",
      "250/250 [==============================] - 4s 18ms/step - loss: 0.0067 - MSE: 0.0067 - val_loss: 0.0060 - val_MSE: 0.0060 - lr: 0.0010\n",
      "Epoch 51/100\n",
      "249/250 [============================>.] - ETA: 0s - loss: 0.0067 - MSE: 0.0067\n",
      "Epoch 51: val_loss did not improve from 0.00520\n",
      "250/250 [==============================] - 5s 18ms/step - loss: 0.0067 - MSE: 0.0067 - val_loss: 0.0052 - val_MSE: 0.0052 - lr: 0.0010\n",
      "Epoch 52/100\n",
      "249/250 [============================>.] - ETA: 0s - loss: 0.0065 - MSE: 0.0065\n",
      "Epoch 52: val_loss improved from 0.00520 to 0.00513, saving model to weights.best.hdf5\n",
      "250/250 [==============================] - 5s 18ms/step - loss: 0.0065 - MSE: 0.0065 - val_loss: 0.0051 - val_MSE: 0.0051 - lr: 0.0010\n",
      "Epoch 53/100\n",
      "250/250 [==============================] - ETA: 0s - loss: 0.0067 - MSE: 0.0067\n",
      "Epoch 53: val_loss did not improve from 0.00513\n",
      "250/250 [==============================] - 5s 18ms/step - loss: 0.0067 - MSE: 0.0067 - val_loss: 0.0055 - val_MSE: 0.0055 - lr: 0.0010\n",
      "Epoch 54/100\n",
      "248/250 [============================>.] - ETA: 0s - loss: 0.0067 - MSE: 0.0067\n",
      "Epoch 54: val_loss did not improve from 0.00513\n",
      "250/250 [==============================] - 5s 18ms/step - loss: 0.0067 - MSE: 0.0067 - val_loss: 0.0059 - val_MSE: 0.0059 - lr: 0.0010\n",
      "Epoch 55/100\n",
      "248/250 [============================>.] - ETA: 0s - loss: 0.0068 - MSE: 0.0068\n",
      "Epoch 55: val_loss did not improve from 0.00513\n",
      "250/250 [==============================] - 5s 18ms/step - loss: 0.0068 - MSE: 0.0068 - val_loss: 0.0056 - val_MSE: 0.0056 - lr: 0.0010\n",
      "Epoch 56/100\n",
      "248/250 [============================>.] - ETA: 0s - loss: 0.0066 - MSE: 0.0066\n",
      "Epoch 56: val_loss did not improve from 0.00513\n",
      "250/250 [==============================] - 5s 18ms/step - loss: 0.0066 - MSE: 0.0066 - val_loss: 0.0054 - val_MSE: 0.0054 - lr: 0.0010\n",
      "Epoch 57/100\n",
      "250/250 [==============================] - ETA: 0s - loss: 0.0066 - MSE: 0.0066\n",
      "Epoch 57: val_loss did not improve from 0.00513\n",
      "250/250 [==============================] - 4s 18ms/step - loss: 0.0066 - MSE: 0.0066 - val_loss: 0.0053 - val_MSE: 0.0053 - lr: 0.0010\n",
      "Epoch 58/100\n",
      "247/250 [============================>.] - ETA: 0s - loss: 0.0065 - MSE: 0.0065\n",
      "Epoch 58: val_loss did not improve from 0.00513\n",
      "250/250 [==============================] - 5s 18ms/step - loss: 0.0065 - MSE: 0.0065 - val_loss: 0.0054 - val_MSE: 0.0054 - lr: 0.0010\n",
      "Epoch 59/100\n",
      "250/250 [==============================] - ETA: 0s - loss: 0.0063 - MSE: 0.0063\n",
      "Epoch 59: val_loss improved from 0.00513 to 0.00500, saving model to weights.best.hdf5\n",
      "250/250 [==============================] - 5s 18ms/step - loss: 0.0063 - MSE: 0.0063 - val_loss: 0.0050 - val_MSE: 0.0050 - lr: 2.0000e-04\n",
      "Epoch 60/100\n",
      "247/250 [============================>.] - ETA: 0s - loss: 0.0063 - MSE: 0.0063\n",
      "Epoch 60: val_loss improved from 0.00500 to 0.00497, saving model to weights.best.hdf5\n",
      "250/250 [==============================] - 5s 18ms/step - loss: 0.0063 - MSE: 0.0063 - val_loss: 0.0050 - val_MSE: 0.0050 - lr: 2.0000e-04\n",
      "Epoch 61/100\n",
      "247/250 [============================>.] - ETA: 0s - loss: 0.0061 - MSE: 0.0061\n",
      "Epoch 61: val_loss did not improve from 0.00497\n",
      "250/250 [==============================] - 5s 19ms/step - loss: 0.0061 - MSE: 0.0061 - val_loss: 0.0050 - val_MSE: 0.0050 - lr: 2.0000e-04\n",
      "Epoch 62/100\n",
      "249/250 [============================>.] - ETA: 0s - loss: 0.0061 - MSE: 0.0061\n",
      "Epoch 62: val_loss improved from 0.00497 to 0.00497, saving model to weights.best.hdf5\n",
      "250/250 [==============================] - 5s 18ms/step - loss: 0.0061 - MSE: 0.0061 - val_loss: 0.0050 - val_MSE: 0.0050 - lr: 2.0000e-04\n",
      "Epoch 63/100\n",
      "249/250 [============================>.] - ETA: 0s - loss: 0.0062 - MSE: 0.0062\n",
      "Epoch 63: val_loss did not improve from 0.00497\n",
      "250/250 [==============================] - 5s 18ms/step - loss: 0.0062 - MSE: 0.0062 - val_loss: 0.0050 - val_MSE: 0.0050 - lr: 2.0000e-04\n",
      "Epoch 64/100\n",
      "248/250 [============================>.] - ETA: 0s - loss: 0.0061 - MSE: 0.0061\n",
      "Epoch 64: val_loss did not improve from 0.00497\n",
      "250/250 [==============================] - 4s 18ms/step - loss: 0.0061 - MSE: 0.0061 - val_loss: 0.0050 - val_MSE: 0.0050 - lr: 2.0000e-04\n",
      "Epoch 65/100\n",
      "249/250 [============================>.] - ETA: 0s - loss: 0.0061 - MSE: 0.0061\n",
      "Epoch 65: val_loss did not improve from 0.00497\n",
      "250/250 [==============================] - 5s 19ms/step - loss: 0.0061 - MSE: 0.0061 - val_loss: 0.0050 - val_MSE: 0.0050 - lr: 2.0000e-04\n",
      "Epoch 66/100\n",
      "248/250 [============================>.] - ETA: 0s - loss: 0.0061 - MSE: 0.0061\n",
      "Epoch 66: val_loss did not improve from 0.00497\n",
      "250/250 [==============================] - 5s 19ms/step - loss: 0.0061 - MSE: 0.0061 - val_loss: 0.0050 - val_MSE: 0.0050 - lr: 2.0000e-04\n",
      "Epoch 67/100\n",
      "248/250 [============================>.] - ETA: 0s - loss: 0.0060 - MSE: 0.0060\n",
      "Epoch 67: val_loss did not improve from 0.00497\n",
      "250/250 [==============================] - 5s 18ms/step - loss: 0.0060 - MSE: 0.0060 - val_loss: 0.0050 - val_MSE: 0.0050 - lr: 2.0000e-04\n",
      "Epoch 68/100\n",
      "247/250 [============================>.] - ETA: 0s - loss: 0.0060 - MSE: 0.0060\n",
      "Epoch 68: val_loss did not improve from 0.00497\n",
      "250/250 [==============================] - 5s 18ms/step - loss: 0.0060 - MSE: 0.0060 - val_loss: 0.0050 - val_MSE: 0.0050 - lr: 2.0000e-04\n",
      "Epoch 69/100\n",
      "249/250 [============================>.] - ETA: 0s - loss: 0.0061 - MSE: 0.0061\n",
      "Epoch 69: val_loss improved from 0.00497 to 0.00494, saving model to weights.best.hdf5\n",
      "250/250 [==============================] - 5s 18ms/step - loss: 0.0061 - MSE: 0.0061 - val_loss: 0.0049 - val_MSE: 0.0049 - lr: 2.0000e-04\n",
      "Epoch 70/100\n",
      "250/250 [==============================] - ETA: 0s - loss: 0.0060 - MSE: 0.0060\n",
      "Epoch 70: val_loss improved from 0.00494 to 0.00487, saving model to weights.best.hdf5\n",
      "250/250 [==============================] - 5s 19ms/step - loss: 0.0060 - MSE: 0.0060 - val_loss: 0.0049 - val_MSE: 0.0049 - lr: 1.0000e-04\n",
      "Epoch 71/100\n",
      "248/250 [============================>.] - ETA: 0s - loss: 0.0060 - MSE: 0.0060\n",
      "Epoch 71: val_loss did not improve from 0.00487\n",
      "250/250 [==============================] - 5s 18ms/step - loss: 0.0060 - MSE: 0.0060 - val_loss: 0.0049 - val_MSE: 0.0049 - lr: 1.0000e-04\n",
      "Epoch 72/100\n",
      "248/250 [============================>.] - ETA: 0s - loss: 0.0059 - MSE: 0.0059\n",
      "Epoch 72: val_loss improved from 0.00487 to 0.00486, saving model to weights.best.hdf5\n",
      "250/250 [==============================] - 5s 18ms/step - loss: 0.0059 - MSE: 0.0059 - val_loss: 0.0049 - val_MSE: 0.0049 - lr: 1.0000e-04\n",
      "Epoch 73/100\n",
      "249/250 [============================>.] - ETA: 0s - loss: 0.0060 - MSE: 0.0060\n",
      "Epoch 73: val_loss did not improve from 0.00486\n",
      "250/250 [==============================] - 5s 19ms/step - loss: 0.0060 - MSE: 0.0060 - val_loss: 0.0049 - val_MSE: 0.0049 - lr: 1.0000e-04\n",
      "Epoch 74/100\n",
      "247/250 [============================>.] - ETA: 0s - loss: 0.0060 - MSE: 0.0060\n",
      "Epoch 74: val_loss did not improve from 0.00486\n",
      "250/250 [==============================] - 5s 18ms/step - loss: 0.0060 - MSE: 0.0060 - val_loss: 0.0049 - val_MSE: 0.0049 - lr: 1.0000e-04\n",
      "Epoch 75/100\n",
      "248/250 [============================>.] - ETA: 0s - loss: 0.0059 - MSE: 0.0059\n",
      "Epoch 75: val_loss did not improve from 0.00486\n",
      "250/250 [==============================] - 5s 18ms/step - loss: 0.0060 - MSE: 0.0060 - val_loss: 0.0049 - val_MSE: 0.0049 - lr: 1.0000e-04\n",
      "Epoch 76/100\n",
      "250/250 [==============================] - ETA: 0s - loss: 0.0059 - MSE: 0.0059\n",
      "Epoch 76: val_loss did not improve from 0.00486\n",
      "250/250 [==============================] - 5s 18ms/step - loss: 0.0059 - MSE: 0.0059 - val_loss: 0.0049 - val_MSE: 0.0049 - lr: 1.0000e-04\n",
      "Epoch 77/100\n",
      "247/250 [============================>.] - ETA: 0s - loss: 0.0059 - MSE: 0.0059\n",
      "Epoch 77: val_loss did not improve from 0.00486\n",
      "250/250 [==============================] - 5s 18ms/step - loss: 0.0059 - MSE: 0.0059 - val_loss: 0.0049 - val_MSE: 0.0049 - lr: 1.0000e-04\n",
      "Epoch 78/100\n",
      "250/250 [==============================] - ETA: 0s - loss: 0.0060 - MSE: 0.0060\n",
      "Epoch 78: val_loss did not improve from 0.00486\n",
      "250/250 [==============================] - 5s 18ms/step - loss: 0.0060 - MSE: 0.0060 - val_loss: 0.0049 - val_MSE: 0.0049 - lr: 1.0000e-04\n",
      "Epoch 79/100\n",
      "250/250 [==============================] - ETA: 0s - loss: 0.0059 - MSE: 0.0059\n",
      "Epoch 79: val_loss did not improve from 0.00486\n",
      "250/250 [==============================] - 4s 18ms/step - loss: 0.0059 - MSE: 0.0059 - val_loss: 0.0049 - val_MSE: 0.0049 - lr: 1.0000e-04\n",
      "Epoch 80/100\n",
      "248/250 [============================>.] - ETA: 0s - loss: 0.0059 - MSE: 0.0059\n",
      "Epoch 80: val_loss did not improve from 0.00486\n",
      "250/250 [==============================] - 5s 19ms/step - loss: 0.0059 - MSE: 0.0059 - val_loss: 0.0049 - val_MSE: 0.0049 - lr: 1.0000e-04\n",
      "Epoch 81/100\n",
      "248/250 [============================>.] - ETA: 0s - loss: 0.0058 - MSE: 0.0058\n",
      "Epoch 81: val_loss improved from 0.00486 to 0.00486, saving model to weights.best.hdf5\n",
      "250/250 [==============================] - 5s 18ms/step - loss: 0.0058 - MSE: 0.0058 - val_loss: 0.0049 - val_MSE: 0.0049 - lr: 1.0000e-04\n",
      "Epoch 82/100\n",
      "250/250 [==============================] - ETA: 0s - loss: 0.0059 - MSE: 0.0059\n",
      "Epoch 82: val_loss improved from 0.00486 to 0.00485, saving model to weights.best.hdf5\n",
      "250/250 [==============================] - 5s 19ms/step - loss: 0.0059 - MSE: 0.0059 - val_loss: 0.0048 - val_MSE: 0.0048 - lr: 1.0000e-04\n",
      "Epoch 83/100\n",
      "248/250 [============================>.] - ETA: 0s - loss: 0.0059 - MSE: 0.0059\n",
      "Epoch 83: val_loss did not improve from 0.00485\n",
      "250/250 [==============================] - 5s 19ms/step - loss: 0.0059 - MSE: 0.0059 - val_loss: 0.0049 - val_MSE: 0.0049 - lr: 1.0000e-04\n",
      "Epoch 84/100\n"
     ]
    },
    {
     "name": "stdout",
     "output_type": "stream",
     "text": [
      "248/250 [============================>.] - ETA: 0s - loss: 0.0058 - MSE: 0.0058\n",
      "Epoch 84: val_loss improved from 0.00485 to 0.00484, saving model to weights.best.hdf5\n",
      "250/250 [==============================] - 5s 18ms/step - loss: 0.0058 - MSE: 0.0058 - val_loss: 0.0048 - val_MSE: 0.0048 - lr: 1.0000e-04\n",
      "Epoch 85/100\n",
      "248/250 [============================>.] - ETA: 0s - loss: 0.0059 - MSE: 0.0059\n",
      "Epoch 85: val_loss did not improve from 0.00484\n",
      "250/250 [==============================] - 4s 17ms/step - loss: 0.0058 - MSE: 0.0058 - val_loss: 0.0048 - val_MSE: 0.0048 - lr: 1.0000e-04\n",
      "Epoch 86/100\n",
      "249/250 [============================>.] - ETA: 0s - loss: 0.0057 - MSE: 0.0057\n",
      "Epoch 86: val_loss did not improve from 0.00484\n",
      "250/250 [==============================] - 4s 18ms/step - loss: 0.0057 - MSE: 0.0057 - val_loss: 0.0048 - val_MSE: 0.0048 - lr: 1.0000e-04\n",
      "Epoch 87/100\n",
      "250/250 [==============================] - ETA: 0s - loss: 0.0059 - MSE: 0.0059\n",
      "Epoch 87: val_loss did not improve from 0.00484\n",
      "250/250 [==============================] - 4s 18ms/step - loss: 0.0059 - MSE: 0.0059 - val_loss: 0.0049 - val_MSE: 0.0049 - lr: 1.0000e-04\n",
      "Epoch 88/100\n",
      "248/250 [============================>.] - ETA: 0s - loss: 0.0059 - MSE: 0.0059\n",
      "Epoch 88: val_loss did not improve from 0.00484\n",
      "250/250 [==============================] - 5s 18ms/step - loss: 0.0059 - MSE: 0.0059 - val_loss: 0.0049 - val_MSE: 0.0049 - lr: 1.0000e-04\n",
      "Epoch 89/100\n",
      "249/250 [============================>.] - ETA: 0s - loss: 0.0058 - MSE: 0.0058\n",
      "Epoch 89: val_loss improved from 0.00484 to 0.00483, saving model to weights.best.hdf5\n",
      "250/250 [==============================] - 5s 18ms/step - loss: 0.0058 - MSE: 0.0058 - val_loss: 0.0048 - val_MSE: 0.0048 - lr: 1.0000e-04\n",
      "Epoch 90/100\n",
      "248/250 [============================>.] - ETA: 0s - loss: 0.0060 - MSE: 0.0060\n",
      "Epoch 90: val_loss did not improve from 0.00483\n",
      "250/250 [==============================] - 5s 19ms/step - loss: 0.0060 - MSE: 0.0060 - val_loss: 0.0049 - val_MSE: 0.0049 - lr: 1.0000e-04\n",
      "Epoch 91/100\n",
      "250/250 [==============================] - ETA: 0s - loss: 0.0058 - MSE: 0.0058\n",
      "Epoch 91: val_loss did not improve from 0.00483\n",
      "250/250 [==============================] - 5s 18ms/step - loss: 0.0058 - MSE: 0.0058 - val_loss: 0.0049 - val_MSE: 0.0049 - lr: 1.0000e-04\n",
      "Epoch 92/100\n",
      "249/250 [============================>.] - ETA: 0s - loss: 0.0059 - MSE: 0.0059\n",
      "Epoch 92: val_loss improved from 0.00483 to 0.00483, saving model to weights.best.hdf5\n",
      "250/250 [==============================] - 5s 18ms/step - loss: 0.0059 - MSE: 0.0059 - val_loss: 0.0048 - val_MSE: 0.0048 - lr: 1.0000e-04\n",
      "Epoch 93/100\n",
      "250/250 [==============================] - ETA: 0s - loss: 0.0058 - MSE: 0.0058\n",
      "Epoch 93: val_loss did not improve from 0.00483\n",
      "250/250 [==============================] - 4s 18ms/step - loss: 0.0058 - MSE: 0.0058 - val_loss: 0.0049 - val_MSE: 0.0049 - lr: 1.0000e-04\n",
      "Epoch 94/100\n",
      "249/250 [============================>.] - ETA: 0s - loss: 0.0059 - MSE: 0.0059\n",
      "Epoch 94: val_loss did not improve from 0.00483\n",
      "250/250 [==============================] - 5s 18ms/step - loss: 0.0059 - MSE: 0.0059 - val_loss: 0.0048 - val_MSE: 0.0048 - lr: 1.0000e-04\n",
      "Epoch 95/100\n",
      "250/250 [==============================] - ETA: 0s - loss: 0.0058 - MSE: 0.0058\n",
      "Epoch 95: val_loss did not improve from 0.00483\n",
      "250/250 [==============================] - 5s 18ms/step - loss: 0.0058 - MSE: 0.0058 - val_loss: 0.0048 - val_MSE: 0.0048 - lr: 1.0000e-04\n",
      "Epoch 96/100\n",
      "248/250 [============================>.] - ETA: 0s - loss: 0.0059 - MSE: 0.0059\n",
      "Epoch 96: val_loss improved from 0.00483 to 0.00482, saving model to weights.best.hdf5\n",
      "250/250 [==============================] - 4s 18ms/step - loss: 0.0059 - MSE: 0.0059 - val_loss: 0.0048 - val_MSE: 0.0048 - lr: 1.0000e-04\n",
      "Epoch 97/100\n",
      "248/250 [============================>.] - ETA: 0s - loss: 0.0057 - MSE: 0.0057\n",
      "Epoch 97: val_loss did not improve from 0.00482\n",
      "250/250 [==============================] - 4s 18ms/step - loss: 0.0057 - MSE: 0.0057 - val_loss: 0.0048 - val_MSE: 0.0048 - lr: 1.0000e-04\n",
      "Epoch 98/100\n",
      "249/250 [============================>.] - ETA: 0s - loss: 0.0058 - MSE: 0.0058\n",
      "Epoch 98: val_loss improved from 0.00482 to 0.00480, saving model to weights.best.hdf5\n",
      "250/250 [==============================] - 5s 19ms/step - loss: 0.0058 - MSE: 0.0058 - val_loss: 0.0048 - val_MSE: 0.0048 - lr: 1.0000e-04\n",
      "Epoch 99/100\n",
      "250/250 [==============================] - ETA: 0s - loss: 0.0058 - MSE: 0.0058\n",
      "Epoch 99: val_loss did not improve from 0.00480\n",
      "250/250 [==============================] - 4s 18ms/step - loss: 0.0058 - MSE: 0.0058 - val_loss: 0.0048 - val_MSE: 0.0048 - lr: 1.0000e-04\n",
      "Epoch 100/100\n",
      "249/250 [============================>.] - ETA: 0s - loss: 0.0058 - MSE: 0.0058\n",
      "Epoch 100: val_loss did not improve from 0.00480\n",
      "250/250 [==============================] - 4s 18ms/step - loss: 0.0058 - MSE: 0.0058 - val_loss: 0.0048 - val_MSE: 0.0048 - lr: 1.0000e-04\n"
     ]
    },
    {
     "data": {
      "text/plain": [
       "<matplotlib.legend.Legend at 0x2589dcc92e0>"
      ]
     },
     "execution_count": 13,
     "metadata": {},
     "output_type": "execute_result"
    },
    {
     "data": {
      "image/png": "[encoded data removed]",
      "text/plain": [
       "<Figure size 640x480 with 1 Axes>"
      ]
     },
     "metadata": {},
     "output_type": "display_data"
    }
   ],
   "source": [
    "dp = 0.5 # set Dropout rate \n",
    "nu = 600 # number of neurons in each layer \n",
    "ne = 100 # number of epochs\n",
    "\n",
    "#################################### Model Architecture #############################################\n",
    "model = Sequential()\n",
    "\n",
    "model.add(Dense(nu, activation='relu', input_dim=x_train.shape[1], kernel_initializer='he_normal')) # Hidden 1\n",
    "model.add(BatchNormalization())\n",
    "model.add(Dropout(dp))\n",
    "\n",
    "model.add(Dense(nu, activation='relu', kernel_initializer='he_normal')) # Hidden 2\n",
    "model.add(BatchNormalization())\n",
    "model.add(Dropout(dp))\n",
    "\n",
    "model.add(Dense(nu, activation='relu', kernel_initializer='he_normal')) # Hidden 3\n",
    "model.add(BatchNormalization())\n",
    "model.add(Dropout(dp))\n",
    "\n",
    "model.add(Dense(nu, activation='relu', kernel_initializer='he_normal')) # Hidden 4\n",
    "model.add(BatchNormalization())\n",
    "model.add(Dropout(dp))\n",
    "\n",
    "model.add(Dense(nu, activation='relu', kernel_initializer='he_normal')) # Hidden 5\n",
    "model.add(BatchNormalization())\n",
    "model.add(Dropout(dp))\n",
    "\n",
    "model.add(Dense(nu, activation='relu', kernel_initializer='he_normal')) # Hidden 6\n",
    "\n",
    "# model.add(Dense(300, activation='relu', kernel_initializer='he_normal')) # Hidden 7\n",
    "\n",
    "\n",
    "\n",
    "model.add(Dense(y_train.shape[1], activation='linear',kernel_initializer='he_normal')) # Output\n",
    "\n",
    "################################## Model Configuration #####################################\n",
    "\n",
    "loss_fn = losses.MeanSquaredError() # set loss function \n",
    "Adam(learning_rate=0.09456, beta_1=0.9, beta_2=0.999, amsgrad=False) # set configuration of Optimizer\n",
    "model.compile(loss=loss_fn, optimizer='adam', metrics=['MSE'])\n",
    "\n",
    "reduce_lr = ReduceLROnPlateau(monitor='val_loss', factor=0.2,patience=10, min_lr=0.0001)\n",
    "filepath=\"weights.best.hdf5\"\n",
    "checkpoint = ModelCheckpoint(filepath,save_weights_only=True, monitor='val_loss', verbose=1, save_best_only=True, mode='min')\n",
    "\n",
    "\n",
    "\n",
    "history = model.fit(x_train,y_train,verbose=1,epochs=ne , validation_data = (x_val,y_val),callbacks=[checkpoint,reduce_lr])\n",
    "\n",
    "\n",
    "    \n",
    "# plot training history\n",
    "plt.figure()\n",
    "plt.plot(history.history['loss'], label='train')\n",
    "plt.plot(history.history['val_loss'], label='validation')\n",
    "plt.title('Model loss')\n",
    "plt.ylabel('Loss')\n",
    "plt.xlabel('Epoch')\n",
    "plt.legend(['Train', 'Validation'], loc='upper left')\n"
   ]
  },
  {
   "cell_type": "code",
   "execution_count": 14,
   "id": "e4de92b2",
   "metadata": {},
   "outputs": [
    {
     "name": "stdout",
     "output_type": "stream",
     "text": [
      "MAE and MAPE Losses Based on Actual Data\n",
      "MAE_ang: 0.02236, MAPE_mag: 0.0436708\n"
     ]
    }
   ],
   "source": [
    "# Evaluation\n",
    "start_SE = time()\n",
    "pred = model.predict(x_test)\n",
    "end_SE = time()\n",
    "elapsed_time = end_SE - start_SE\n",
    "\n",
    "pred_actual = np.zeros(y_test.shape)\n",
    "\n",
    "for j in range(main_y_train.shape[1]):\n",
    "    t2,y_min,y_max = normalize(main_y_train[:,j])\n",
    "    pred_actual[:,j] = (pred[:,j]*(y_max-y_min))+y_min\n",
    "    \n",
    "even_index = np.arange(0,y_test.shape[1],2)\n",
    "odd_index = np.arange(1,y_test.shape[1],2)\n",
    "\n",
    "pred_mag_actual = pred_actual[:,even_index]\n",
    "pred_ang_actual = pred_actual[:,odd_index]*180/np.pi\n",
    "\n",
    "phase_MAE = mean_absolute_error(pred_actual[:,odd_index], main_y_test[:,odd_index])*180/np.pi\n",
    "#Formulate MAPE by my own\n",
    "mag_MAPE = np.sum(abs((main_y_test[:,even_index]-pred_actual[:,even_index])/main_y_test[:,even_index]))/main_y_test[:,even_index].shape[0]/(main_y_test[:,even_index].shape[1])*100\n",
    "#MAPE using the function (both give the same results)\n",
    "mag_MAPE2 = mean_absolute_percentage_error(pred_actual[:,even_index], main_y_test[:,even_index])\n",
    "\n",
    "print('MAE and MAPE Losses Based on Actual Data')\n",
    "print(f'MAE_ang: {phase_MAE:.5f}, MAPE_mag: {mag_MAPE:.7f}')\n"
   ]
  },
  {
   "cell_type": "markdown",
   "id": "0f8a863d",
   "metadata": {},
   "source": [
    "## Plot Estimation Results on a per-bus basis for 3 phases (LSE vs. DNN-SE)"
   ]
  },
  {
   "cell_type": "markdown",
   "id": "ade91910",
   "metadata": {},
   "source": [
    "* There are 240 nodes, and 462 nodes separately sorted by *phases*.\n",
    "* Each node has its Mag & Ang values, so there will be 462*2=924 values altogether.\n",
    "* The first 462 values are related to Mag, the next batch is for Ang."
   ]
  },
  {
   "cell_type": "code",
   "execution_count": 40,
   "id": "535e6896",
   "metadata": {},
   "outputs": [],
   "source": [
    "# range of indexes: 1~924 > in Python: 0~923\n",
    "#Mag\n",
    "phaseA_mag_indx = (pd.read_csv('phase_A_voltage_mag_index.csv',header= None)-1).values.tolist()[0] #subtract it by 1 to make it in Python index, then make it as a list\n",
    "phaseB_mag_indx = (pd.read_csv('phase_B_voltage_mag_index.csv',header= None)-1).values.tolist()[0]\n",
    "phaseC_mag_indx = (pd.read_csv('phase_C_voltage_mag_index.csv',header= None)-1).values.tolist()[0]\n",
    "#Ang\n",
    "phaseA_ang_indx = (pd.read_csv('phase_A_voltage_ang_index.csv',header= None)-1).values.tolist()[0] #subtract it by 1 to make it in Python index, then make it as a list\n",
    "phaseB_ang_indx = (pd.read_csv('phase_B_voltage_ang_index.csv',header= None)-1).values.tolist()[0]\n",
    "phaseC_ang_indx = (pd.read_csv('phase_C_voltage_ang_index.csv',header= None)-1).values.tolist()[0]"
   ]
  },
  {
   "cell_type": "code",
   "execution_count": 63,
   "id": "23a26d2e",
   "metadata": {},
   "outputs": [],
   "source": [
    "# We need to stack predicted and actual Mag & Ang values first to make them ready for ndex grabbing\n",
    "pred = np.hstack((pred_mag_actual, pred_ang_actual))\n",
    "true = np.hstack((main_y_test[:,even_index],main_y_test[:,odd_index]*180/np.pi))"
   ]
  },
  {
   "cell_type": "code",
   "execution_count": 65,
   "id": "e00a8c5d",
   "metadata": {},
   "outputs": [],
   "source": [
    "# Calculate MAE for phase angles and MAPE for magnitudes separately for each phase\n",
    "mag_MAPE_phase_A = np.sum(abs((true[:,phaseA_mag_indx]-pred[:,phaseA_mag_indx])/true[:,phaseA_mag_indx]), axis=0)/true[:,phaseA_mag_indx].shape[0]*100\n",
    "mag_MAPE_phase_B = np.sum(abs((true[:,phaseB_mag_indx]-pred[:,phaseB_mag_indx])/true[:,phaseB_mag_indx]), axis=0)/true[:,phaseB_mag_indx].shape[0]*100\n",
    "mag_MAPE_phase_C = np.sum(abs((true[:,phaseC_mag_indx]-pred[:,phaseC_mag_indx])/true[:,phaseC_mag_indx]), axis=0)/true[:,phaseC_mag_indx].shape[0]*100\n",
    "\n",
    "ang_MAE_phase_A = np.sum(abs((true[:,phaseA_ang_indx]-pred[:,phaseA_ang_indx])), axis=0)/true[:,phaseA_ang_indx].shape[0]\n",
    "ang_MAE_phase_B = np.sum(abs((true[:,phaseB_ang_indx]-pred[:,phaseB_ang_indx])), axis=0)/true[:,phaseB_ang_indx].shape[0]\n",
    "ang_MAE_phase_C = np.sum(abs((true[:,phaseC_ang_indx]-pred[:,phaseC_ang_indx])), axis=0)/true[:,phaseC_ang_indx].shape[0]"
   ]
  },
  {
   "cell_type": "code",
   "execution_count": 84,
   "id": "83fdd068",
   "metadata": {},
   "outputs": [],
   "source": [
    "# Import LSE results done in MATLAB (Reetam's codes)\n",
    "LSE_MAPE = pd.read_csv('MAPE_per.csv', header=None) # in %\n",
    "LSE_MAE = pd.read_csv('MAE_per.csv', header=None) # in degrees\n",
    "\n",
    "LSE =  np.hstack((LSE_MAPE.T, LSE_MAE.T))\n",
    "\n",
    "LSE_MAPE_phase_A = LSE[:,phaseA_mag_indx].reshape(len(phaseA_mag_indx),)\n",
    "LSE_MAPE_phase_B = LSE[:,phaseB_mag_indx].reshape(len(phaseB_mag_indx),)\n",
    "LSE_MAPE_phase_C = LSE[:,phaseC_mag_indx].reshape(len(phaseC_mag_indx),)\n",
    "\n",
    "LSE_MAE_phase_A = LSE[:,phaseA_ang_indx].reshape(len(phaseA_ang_indx),)\n",
    "LSE_MAE_phase_B = LSE[:,phaseB_ang_indx].reshape(len(phaseB_ang_indx),)\n",
    "LSE_MAE_phase_C = LSE[:,phaseC_ang_indx].reshape(len(phaseC_ang_indx),)"
   ]
  },
  {
   "cell_type": "code",
   "execution_count": 119,
   "id": "55ee7a7d",
   "metadata": {},
   "outputs": [
    {
     "data": {
      "image/png": "[encoded data removed]",
      "text/plain": [
       "<Figure size 2000x500 with 1 Axes>"
      ]
     },
     "metadata": {},
     "output_type": "display_data"
    }
   ],
   "source": [
    "# create a DataFrame with the data\n",
    "df = pd.DataFrame({'DNN-SE': mag_MAPE_phase_A,\n",
    "                   'LSE': LSE_MAPE_phase_A})\n",
    "colors = ['blue', '#ff7f0e']\n",
    "# plot the data as a double bar chart\n",
    "ax = df.plot(kind='bar', figsize=(20,5), width=0.8, color=colors)\n",
    "\n",
    "\n",
    "# increase the font size of the x and y axis labels\n",
    "ax.set_xlabel('Node Number', fontsize=12)\n",
    "ax.set_ylabel('MAPE (%)', fontsize=12)\n",
    "\n",
    "# set the legend to show above the chart\n",
    "ax.legend(loc=9, fontsize=12)\n",
    "\n",
    "# remove x-axis ticks\n",
    "ax.set_xticks([])\n",
    "ax.set_xticklabels([])\n",
    "\n",
    "# show the chart\n",
    "plt.show()"
   ]
  },
  {
   "cell_type": "code",
   "execution_count": 118,
   "id": "2162c33c",
   "metadata": {},
   "outputs": [
    {
     "data": {
      "image/png": "[encoded data removed]",
      "text/plain": [
       "<Figure size 2000x500 with 1 Axes>"
      ]
     },
     "metadata": {},
     "output_type": "display_data"
    }
   ],
   "source": [
    "# create a DataFrame with the data\n",
    "df = pd.DataFrame({'DNN-SE': ang_MAE_phase_A,\n",
    "                   'LSE': LSE_MAE_phase_A})\n",
    "colors = ['blue', '#ff7f0e']\n",
    "# plot the data as a double bar chart\n",
    "ax = df.plot(kind='bar', figsize=(20,5), width=0.8, color=colors)\n",
    "\n",
    "# set the legend to show above the chart\n",
    "ax.legend(loc=9, fontsize=12)\n",
    "\n",
    "# increase the font size of the x and y axis labels\n",
    "ax.set_xlabel('Node Number', fontsize=12)\n",
    "ax.set_ylabel('MAE (deg.)', fontsize=12)\n",
    "\n",
    "\n",
    "# remove x-axis ticks\n",
    "ax.set_xticks([])\n",
    "ax.set_xticklabels([])\n",
    "\n",
    "# show the chart\n",
    "plt.show()"
   ]
  }
 ],
 "metadata": {
  "accelerator": "GPU",
  "colab": {
   "name": "DNN state estimation.ipynb",
   "provenance": []
  },
  "kernelspec": {
   "display_name": "Python 3 (ipykernel)",
   "language": "python",
   "name": "python3"
  },
  "language_info": {
   "codemirror_mode": {
    "name": "ipython",
    "version": 3
   },
   "file_extension": ".py",
   "mimetype": "text/x-python",
   "name": "python",
   "nbconvert_exporter": "python",
   "pygments_lexer": "ipython3",
   "version": "3.10.8"
  }
 },
 "nbformat": 4,
 "nbformat_minor": 5
}
